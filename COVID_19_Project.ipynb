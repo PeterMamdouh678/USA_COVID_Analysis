{
  "nbformat": 4,
  "nbformat_minor": 0,
  "metadata": {
    "colab": {
      "name": "COVID-19 Project.ipynb",
      "provenance": [],
      "collapsed_sections": [],
      "authorship_tag": "ABX9TyMds1ISttp1AFMIvScrPJs3",
      "include_colab_link": true
    },
    "kernelspec": {
      "name": "python3",
      "display_name": "Python 3"
    },
    "language_info": {
      "name": "python"
    }
  },
  "cells": [
    {
      "cell_type": "markdown",
      "metadata": {
        "id": "view-in-github",
        "colab_type": "text"
      },
      "source": [
        "<a href=\"https://colab.research.google.com/github/PeterMamdouh678/USA_COVID_Analysis/blob/main/COVID_19_Project.ipynb\" target=\"_parent\"><img src=\"https://colab.research.google.com/assets/colab-badge.svg\" alt=\"Open In Colab\"/></a>"
      ]
    },
    {
      "cell_type": "code",
      "metadata": {
        "id": "e318btL0AcHN"
      },
      "source": [
        "# this code will make an analysis for the deaths of COVID-19 in some states, counties in USA \n",
        " \n",
        "#Import Pandas for analysis\n",
        " \n",
        "import pandas as pd"
      ],
      "execution_count": null,
      "outputs": []
    },
    {
      "cell_type": "code",
      "metadata": {
        "id": "dvrcHKCLArPJ"
      },
      "source": [
        "#Reading the csv data file\n",
        " \n",
        "df=pd.read_csv(\"/content/Provisional_COVID-19_Death_Counts_in_the_United_States_by_County.csv\")"
      ],
      "execution_count": null,
      "outputs": []
    },
    {
      "cell_type": "code",
      "metadata": {
        "colab": {
          "base_uri": "https://localhost:8080/",
          "height": 195
        },
        "id": "GqHYEjghzx-5",
        "outputId": "65efd948-3a0c-408e-f7e5-a0a18eece9e6"
      },
      "source": [
        "df.head()"
      ],
      "execution_count": null,
      "outputs": [
        {
          "output_type": "execute_result",
          "data": {
            "text/html": [
              "<div>\n",
              "<style scoped>\n",
              "    .dataframe tbody tr th:only-of-type {\n",
              "        vertical-align: middle;\n",
              "    }\n",
              "\n",
              "    .dataframe tbody tr th {\n",
              "        vertical-align: top;\n",
              "    }\n",
              "\n",
              "    .dataframe thead th {\n",
              "        text-align: right;\n",
              "    }\n",
              "</style>\n",
              "<table border=\"1\" class=\"dataframe\">\n",
              "  <thead>\n",
              "    <tr style=\"text-align: right;\">\n",
              "      <th></th>\n",
              "      <th>State</th>\n",
              "      <th>County name</th>\n",
              "      <th>FIPS County Code</th>\n",
              "      <th>Urban Rural Code</th>\n",
              "      <th>Deaths involving COVID-19</th>\n",
              "      <th>Deaths from All Causes</th>\n",
              "    </tr>\n",
              "  </thead>\n",
              "  <tbody>\n",
              "    <tr>\n",
              "      <th>0</th>\n",
              "      <td>AK</td>\n",
              "      <td>Anchorage Municipality</td>\n",
              "      <td>2020</td>\n",
              "      <td>Medium metro</td>\n",
              "      <td>190.0</td>\n",
              "      <td>2748</td>\n",
              "    </tr>\n",
              "    <tr>\n",
              "      <th>1</th>\n",
              "      <td>AK</td>\n",
              "      <td>Bethel Census Area</td>\n",
              "      <td>2050</td>\n",
              "      <td>Noncore</td>\n",
              "      <td>14.0</td>\n",
              "      <td>133</td>\n",
              "    </tr>\n",
              "    <tr>\n",
              "      <th>2</th>\n",
              "      <td>AK</td>\n",
              "      <td>Dillingham Census Area</td>\n",
              "      <td>2070</td>\n",
              "      <td>Noncore</td>\n",
              "      <td>NaN</td>\n",
              "      <td>33</td>\n",
              "    </tr>\n",
              "    <tr>\n",
              "      <th>3</th>\n",
              "      <td>AK</td>\n",
              "      <td>Fairbanks North Star Borough</td>\n",
              "      <td>2090</td>\n",
              "      <td>Small metro</td>\n",
              "      <td>41.0</td>\n",
              "      <td>653</td>\n",
              "    </tr>\n",
              "    <tr>\n",
              "      <th>4</th>\n",
              "      <td>AK</td>\n",
              "      <td>Hoonah-Angoon Census Area</td>\n",
              "      <td>2105</td>\n",
              "      <td>Noncore</td>\n",
              "      <td>NaN</td>\n",
              "      <td>14</td>\n",
              "    </tr>\n",
              "  </tbody>\n",
              "</table>\n",
              "</div>"
            ],
            "text/plain": [
              "  State  ... Deaths from All Causes\n",
              "0    AK  ...                   2748\n",
              "1    AK  ...                    133\n",
              "2    AK  ...                     33\n",
              "3    AK  ...                    653\n",
              "4    AK  ...                     14\n",
              "\n",
              "[5 rows x 6 columns]"
            ]
          },
          "metadata": {
            "tags": []
          },
          "execution_count": 49
        }
      ]
    },
    {
      "cell_type": "code",
      "metadata": {
        "id": "e1370AnMA_y8",
        "colab": {
          "base_uri": "https://localhost:8080/",
          "height": 195
        },
        "outputId": "d9907474-b19c-4a17-82d6-3510a61676d3"
      },
      "source": [
        "#Data Cleaning\n",
        "#Removing the FIPS County Code since it's not usefull to our analysis\n",
        "\n",
        "df.drop(\"FIPS County Code\",axis=1,inplace=True)\n",
        "df.drop(range(101,221),inplace=True)\n",
        "df.head()"
      ],
      "execution_count": null,
      "outputs": [
        {
          "output_type": "execute_result",
          "data": {
            "text/html": [
              "<div>\n",
              "<style scoped>\n",
              "    .dataframe tbody tr th:only-of-type {\n",
              "        vertical-align: middle;\n",
              "    }\n",
              "\n",
              "    .dataframe tbody tr th {\n",
              "        vertical-align: top;\n",
              "    }\n",
              "\n",
              "    .dataframe thead th {\n",
              "        text-align: right;\n",
              "    }\n",
              "</style>\n",
              "<table border=\"1\" class=\"dataframe\">\n",
              "  <thead>\n",
              "    <tr style=\"text-align: right;\">\n",
              "      <th></th>\n",
              "      <th>State</th>\n",
              "      <th>County name</th>\n",
              "      <th>Urban Rural Code</th>\n",
              "      <th>Deaths involving COVID-19</th>\n",
              "      <th>Deaths from All Causes</th>\n",
              "    </tr>\n",
              "  </thead>\n",
              "  <tbody>\n",
              "    <tr>\n",
              "      <th>0</th>\n",
              "      <td>AK</td>\n",
              "      <td>Anchorage Municipality</td>\n",
              "      <td>Medium metro</td>\n",
              "      <td>190.0</td>\n",
              "      <td>2748</td>\n",
              "    </tr>\n",
              "    <tr>\n",
              "      <th>1</th>\n",
              "      <td>AK</td>\n",
              "      <td>Bethel Census Area</td>\n",
              "      <td>Noncore</td>\n",
              "      <td>14.0</td>\n",
              "      <td>133</td>\n",
              "    </tr>\n",
              "    <tr>\n",
              "      <th>2</th>\n",
              "      <td>AK</td>\n",
              "      <td>Dillingham Census Area</td>\n",
              "      <td>Noncore</td>\n",
              "      <td>NaN</td>\n",
              "      <td>33</td>\n",
              "    </tr>\n",
              "    <tr>\n",
              "      <th>3</th>\n",
              "      <td>AK</td>\n",
              "      <td>Fairbanks North Star Borough</td>\n",
              "      <td>Small metro</td>\n",
              "      <td>41.0</td>\n",
              "      <td>653</td>\n",
              "    </tr>\n",
              "    <tr>\n",
              "      <th>4</th>\n",
              "      <td>AK</td>\n",
              "      <td>Hoonah-Angoon Census Area</td>\n",
              "      <td>Noncore</td>\n",
              "      <td>NaN</td>\n",
              "      <td>14</td>\n",
              "    </tr>\n",
              "  </tbody>\n",
              "</table>\n",
              "</div>"
            ],
            "text/plain": [
              "  State  ... Deaths from All Causes\n",
              "0    AK  ...                   2748\n",
              "1    AK  ...                    133\n",
              "2    AK  ...                     33\n",
              "3    AK  ...                    653\n",
              "4    AK  ...                     14\n",
              "\n",
              "[5 rows x 5 columns]"
            ]
          },
          "metadata": {
            "tags": []
          },
          "execution_count": 50
        }
      ]
    },
    {
      "cell_type": "code",
      "metadata": {
        "id": "X9xXs5FfCKyq",
        "colab": {
          "base_uri": "https://localhost:8080/",
          "height": 195
        },
        "outputId": "e5bf357a-1ef6-4943-855b-64fb8de1e072"
      },
      "source": [
        "#Replacing the missing data with zero's to be easier for analysis and calculations\n",
        "\n",
        "df.fillna(0, inplace=True)\n",
        "df.head()"
      ],
      "execution_count": null,
      "outputs": [
        {
          "output_type": "execute_result",
          "data": {
            "text/html": [
              "<div>\n",
              "<style scoped>\n",
              "    .dataframe tbody tr th:only-of-type {\n",
              "        vertical-align: middle;\n",
              "    }\n",
              "\n",
              "    .dataframe tbody tr th {\n",
              "        vertical-align: top;\n",
              "    }\n",
              "\n",
              "    .dataframe thead th {\n",
              "        text-align: right;\n",
              "    }\n",
              "</style>\n",
              "<table border=\"1\" class=\"dataframe\">\n",
              "  <thead>\n",
              "    <tr style=\"text-align: right;\">\n",
              "      <th></th>\n",
              "      <th>State</th>\n",
              "      <th>County name</th>\n",
              "      <th>Urban Rural Code</th>\n",
              "      <th>Deaths involving COVID-19</th>\n",
              "      <th>Deaths from All Causes</th>\n",
              "    </tr>\n",
              "  </thead>\n",
              "  <tbody>\n",
              "    <tr>\n",
              "      <th>0</th>\n",
              "      <td>AK</td>\n",
              "      <td>Anchorage Municipality</td>\n",
              "      <td>Medium metro</td>\n",
              "      <td>190.0</td>\n",
              "      <td>2748</td>\n",
              "    </tr>\n",
              "    <tr>\n",
              "      <th>1</th>\n",
              "      <td>AK</td>\n",
              "      <td>Bethel Census Area</td>\n",
              "      <td>Noncore</td>\n",
              "      <td>14.0</td>\n",
              "      <td>133</td>\n",
              "    </tr>\n",
              "    <tr>\n",
              "      <th>2</th>\n",
              "      <td>AK</td>\n",
              "      <td>Dillingham Census Area</td>\n",
              "      <td>Noncore</td>\n",
              "      <td>0.0</td>\n",
              "      <td>33</td>\n",
              "    </tr>\n",
              "    <tr>\n",
              "      <th>3</th>\n",
              "      <td>AK</td>\n",
              "      <td>Fairbanks North Star Borough</td>\n",
              "      <td>Small metro</td>\n",
              "      <td>41.0</td>\n",
              "      <td>653</td>\n",
              "    </tr>\n",
              "    <tr>\n",
              "      <th>4</th>\n",
              "      <td>AK</td>\n",
              "      <td>Hoonah-Angoon Census Area</td>\n",
              "      <td>Noncore</td>\n",
              "      <td>0.0</td>\n",
              "      <td>14</td>\n",
              "    </tr>\n",
              "  </tbody>\n",
              "</table>\n",
              "</div>"
            ],
            "text/plain": [
              "  State  ... Deaths from All Causes\n",
              "0    AK  ...                   2748\n",
              "1    AK  ...                    133\n",
              "2    AK  ...                     33\n",
              "3    AK  ...                    653\n",
              "4    AK  ...                     14\n",
              "\n",
              "[5 rows x 5 columns]"
            ]
          },
          "metadata": {
            "tags": []
          },
          "execution_count": 51
        }
      ]
    },
    {
      "cell_type": "code",
      "metadata": {
        "id": "B2fdejQGEF7S",
        "colab": {
          "base_uri": "https://localhost:8080/"
        },
        "outputId": "b36ced7c-92e3-4bd8-e1e1-e74d083cf40c"
      },
      "source": [
        "#Checking the number of columns and raws \n",
        "\n",
        "df.shape"
      ],
      "execution_count": null,
      "outputs": [
        {
          "output_type": "execute_result",
          "data": {
            "text/plain": [
              "(103, 5)"
            ]
          },
          "metadata": {
            "tags": []
          },
          "execution_count": 52
        }
      ]
    },
    {
      "cell_type": "code",
      "metadata": {
        "colab": {
          "base_uri": "https://localhost:8080/"
        },
        "id": "KcOCJ8pcUC3h",
        "outputId": "c6677672-ac05-4375-8491-3f6815ef8674"
      },
      "source": [
        "#Checking the data from deaaths from all causes\n",
        "\n",
        "df[\"Deaths from All Causes\"].describe()"
      ],
      "execution_count": null,
      "outputs": [
        {
          "output_type": "execute_result",
          "data": {
            "text/plain": [
              "count      103.000000\n",
              "mean       955.000000\n",
              "std       1740.462577\n",
              "min         14.000000\n",
              "25%        195.000000\n",
              "50%        375.000000\n",
              "75%        944.000000\n",
              "max      13998.000000\n",
              "Name: Deaths from All Causes, dtype: float64"
            ]
          },
          "metadata": {
            "tags": []
          },
          "execution_count": 53
        }
      ]
    },
    {
      "cell_type": "code",
      "metadata": {
        "colab": {
          "base_uri": "https://localhost:8080/"
        },
        "id": "I_aEJ8RAUQiz",
        "outputId": "2ab9143f-3ac2-447d-e68d-c0a063c0108e"
      },
      "source": [
        "#Checking the data from deaths involving COVID-19\n",
        "\n",
        "df[\"Deaths involving COVID-19\"].describe()"
      ],
      "execution_count": null,
      "outputs": [
        {
          "output_type": "execute_result",
          "data": {
            "text/plain": [
              "count     103.000000\n",
              "mean      117.242718\n",
              "std       252.914713\n",
              "min         0.000000\n",
              "25%        12.500000\n",
              "50%        31.000000\n",
              "75%       106.000000\n",
              "max      2021.000000\n",
              "Name: Deaths involving COVID-19, dtype: float64"
            ]
          },
          "metadata": {
            "tags": []
          },
          "execution_count": 54
        }
      ]
    },
    {
      "cell_type": "code",
      "metadata": {
        "colab": {
          "base_uri": "https://localhost:8080/",
          "height": 402
        },
        "id": "Ivmptv8cUZDR",
        "outputId": "7c53d5d4-0396-46ab-c546-6cfa186ac791"
      },
      "source": [
        "#seting the data in an ascending order to know the highes number of deaths\n",
        "\n",
        "df.sort_values([\"Deaths involving COVID-19\",\"Deaths from All Causes\"])"
      ],
      "execution_count": null,
      "outputs": [
        {
          "output_type": "execute_result",
          "data": {
            "text/html": [
              "<div>\n",
              "<style scoped>\n",
              "    .dataframe tbody tr th:only-of-type {\n",
              "        vertical-align: middle;\n",
              "    }\n",
              "\n",
              "    .dataframe tbody tr th {\n",
              "        vertical-align: top;\n",
              "    }\n",
              "\n",
              "    .dataframe thead th {\n",
              "        text-align: right;\n",
              "    }\n",
              "</style>\n",
              "<table border=\"1\" class=\"dataframe\">\n",
              "  <thead>\n",
              "    <tr style=\"text-align: right;\">\n",
              "      <th></th>\n",
              "      <th>State</th>\n",
              "      <th>County name</th>\n",
              "      <th>Urban Rural Code</th>\n",
              "      <th>Deaths involving COVID-19</th>\n",
              "      <th>Deaths from All Causes</th>\n",
              "    </tr>\n",
              "  </thead>\n",
              "  <tbody>\n",
              "    <tr>\n",
              "      <th>4</th>\n",
              "      <td>AK</td>\n",
              "      <td>Hoonah-Angoon Census Area</td>\n",
              "      <td>Noncore</td>\n",
              "      <td>0.0</td>\n",
              "      <td>14</td>\n",
              "    </tr>\n",
              "    <tr>\n",
              "      <th>2</th>\n",
              "      <td>AK</td>\n",
              "      <td>Dillingham Census Area</td>\n",
              "      <td>Noncore</td>\n",
              "      <td>0.0</td>\n",
              "      <td>33</td>\n",
              "    </tr>\n",
              "    <tr>\n",
              "      <th>11</th>\n",
              "      <td>AK</td>\n",
              "      <td>Valdez-Cordova Census Area</td>\n",
              "      <td>Noncore</td>\n",
              "      <td>0.0</td>\n",
              "      <td>42</td>\n",
              "    </tr>\n",
              "    <tr>\n",
              "      <th>12</th>\n",
              "      <td>AK</td>\n",
              "      <td>Wade Hampton Census Area</td>\n",
              "      <td>Noncore</td>\n",
              "      <td>0.0</td>\n",
              "      <td>45</td>\n",
              "    </tr>\n",
              "    <tr>\n",
              "      <th>10</th>\n",
              "      <td>AK</td>\n",
              "      <td>North Slope Borough</td>\n",
              "      <td>Noncore</td>\n",
              "      <td>0.0</td>\n",
              "      <td>46</td>\n",
              "    </tr>\n",
              "    <tr>\n",
              "      <th>...</th>\n",
              "      <td>...</td>\n",
              "      <td>...</td>\n",
              "      <td>...</td>\n",
              "      <td>...</td>\n",
              "      <td>...</td>\n",
              "    </tr>\n",
              "    <tr>\n",
              "      <th>75</th>\n",
              "      <td>AL</td>\n",
              "      <td>Tuscaloosa County</td>\n",
              "      <td>Small metro</td>\n",
              "      <td>578.0</td>\n",
              "      <td>3269</td>\n",
              "    </tr>\n",
              "    <tr>\n",
              "      <th>57</th>\n",
              "      <td>AL</td>\n",
              "      <td>Madison County</td>\n",
              "      <td>Medium metro</td>\n",
              "      <td>632.0</td>\n",
              "      <td>5688</td>\n",
              "    </tr>\n",
              "    <tr>\n",
              "      <th>63</th>\n",
              "      <td>AL</td>\n",
              "      <td>Montgomery County</td>\n",
              "      <td>Medium metro</td>\n",
              "      <td>808.0</td>\n",
              "      <td>4452</td>\n",
              "    </tr>\n",
              "    <tr>\n",
              "      <th>61</th>\n",
              "      <td>AL</td>\n",
              "      <td>Mobile County</td>\n",
              "      <td>Medium metro</td>\n",
              "      <td>905.0</td>\n",
              "      <td>7280</td>\n",
              "    </tr>\n",
              "    <tr>\n",
              "      <th>49</th>\n",
              "      <td>AL</td>\n",
              "      <td>Jefferson County</td>\n",
              "      <td>Large central metro</td>\n",
              "      <td>2021.0</td>\n",
              "      <td>13998</td>\n",
              "    </tr>\n",
              "  </tbody>\n",
              "</table>\n",
              "<p>103 rows × 5 columns</p>\n",
              "</div>"
            ],
            "text/plain": [
              "   State  ... Deaths from All Causes\n",
              "4     AK  ...                     14\n",
              "2     AK  ...                     33\n",
              "11    AK  ...                     42\n",
              "12    AK  ...                     45\n",
              "10    AK  ...                     46\n",
              "..   ...  ...                    ...\n",
              "75    AL  ...                   3269\n",
              "57    AL  ...                   5688\n",
              "63    AL  ...                   4452\n",
              "61    AL  ...                   7280\n",
              "49    AL  ...                  13998\n",
              "\n",
              "[103 rows x 5 columns]"
            ]
          },
          "metadata": {
            "tags": []
          },
          "execution_count": 55
        }
      ]
    },
    {
      "cell_type": "code",
      "metadata": {
        "colab": {
          "base_uri": "https://localhost:8080/",
          "height": 580
        },
        "id": "vDlA65yRU16n",
        "outputId": "2b2eacfd-bddb-4860-d65d-afddabcf0939"
      },
      "source": [
        "# Knowing the Max number of deaths in states according to the Urban Rural Code\n",
        "\n",
        "df.groupby([\"State\",\"Urban Rural Code\"]).max()"
      ],
      "execution_count": null,
      "outputs": [
        {
          "output_type": "execute_result",
          "data": {
            "text/html": [
              "<div>\n",
              "<style scoped>\n",
              "    .dataframe tbody tr th:only-of-type {\n",
              "        vertical-align: middle;\n",
              "    }\n",
              "\n",
              "    .dataframe tbody tr th {\n",
              "        vertical-align: top;\n",
              "    }\n",
              "\n",
              "    .dataframe thead th {\n",
              "        text-align: right;\n",
              "    }\n",
              "</style>\n",
              "<table border=\"1\" class=\"dataframe\">\n",
              "  <thead>\n",
              "    <tr style=\"text-align: right;\">\n",
              "      <th></th>\n",
              "      <th></th>\n",
              "      <th>County name</th>\n",
              "      <th>Deaths involving COVID-19</th>\n",
              "      <th>Deaths from All Causes</th>\n",
              "    </tr>\n",
              "    <tr>\n",
              "      <th>State</th>\n",
              "      <th>Urban Rural Code</th>\n",
              "      <th></th>\n",
              "      <th></th>\n",
              "      <th></th>\n",
              "    </tr>\n",
              "  </thead>\n",
              "  <tbody>\n",
              "    <tr>\n",
              "      <th rowspan=\"4\" valign=\"top\">AK</th>\n",
              "      <th>Medium metro</th>\n",
              "      <td>Matanuska-Susitna Borough</td>\n",
              "      <td>190.0</td>\n",
              "      <td>2748</td>\n",
              "    </tr>\n",
              "    <tr>\n",
              "      <th>Micropolitan</th>\n",
              "      <td>Ketchikan Gateway Borough</td>\n",
              "      <td>0.0</td>\n",
              "      <td>204</td>\n",
              "    </tr>\n",
              "    <tr>\n",
              "      <th>Noncore</th>\n",
              "      <td>Wade Hampton Census Area</td>\n",
              "      <td>15.0</td>\n",
              "      <td>452</td>\n",
              "    </tr>\n",
              "    <tr>\n",
              "      <th>Small metro</th>\n",
              "      <td>Fairbanks North Star Borough</td>\n",
              "      <td>41.0</td>\n",
              "      <td>653</td>\n",
              "    </tr>\n",
              "    <tr>\n",
              "      <th rowspan=\"6\" valign=\"top\">AL</th>\n",
              "      <th>Large central metro</th>\n",
              "      <td>Jefferson County</td>\n",
              "      <td>2021.0</td>\n",
              "      <td>13998</td>\n",
              "    </tr>\n",
              "    <tr>\n",
              "      <th>Large fringe metro</th>\n",
              "      <td>Walker County</td>\n",
              "      <td>192.0</td>\n",
              "      <td>1859</td>\n",
              "    </tr>\n",
              "    <tr>\n",
              "      <th>Medium metro</th>\n",
              "      <td>Russell County</td>\n",
              "      <td>905.0</td>\n",
              "      <td>7280</td>\n",
              "    </tr>\n",
              "    <tr>\n",
              "      <th>Micropolitan</th>\n",
              "      <td>Talladega County</td>\n",
              "      <td>205.0</td>\n",
              "      <td>1656</td>\n",
              "    </tr>\n",
              "    <tr>\n",
              "      <th>Noncore</th>\n",
              "      <td>Winston County</td>\n",
              "      <td>105.0</td>\n",
              "      <td>961</td>\n",
              "    </tr>\n",
              "    <tr>\n",
              "      <th>Small metro</th>\n",
              "      <td>Tuscaloosa County</td>\n",
              "      <td>578.0</td>\n",
              "      <td>3269</td>\n",
              "    </tr>\n",
              "    <tr>\n",
              "      <th rowspan=\"5\" valign=\"top\">AR</th>\n",
              "      <th>Large fringe metro</th>\n",
              "      <td>Crittenden County</td>\n",
              "      <td>37.0</td>\n",
              "      <td>474</td>\n",
              "    </tr>\n",
              "    <tr>\n",
              "      <th>Medium metro</th>\n",
              "      <td>Crawford County</td>\n",
              "      <td>437.0</td>\n",
              "      <td>2697</td>\n",
              "    </tr>\n",
              "    <tr>\n",
              "      <th>Micropolitan</th>\n",
              "      <td>Columbia County</td>\n",
              "      <td>142.0</td>\n",
              "      <td>1203</td>\n",
              "    </tr>\n",
              "    <tr>\n",
              "      <th>Noncore</th>\n",
              "      <td>Drew County</td>\n",
              "      <td>31.0</td>\n",
              "      <td>375</td>\n",
              "    </tr>\n",
              "    <tr>\n",
              "      <th>Small metro</th>\n",
              "      <td>Craighead County</td>\n",
              "      <td>531.0</td>\n",
              "      <td>3007</td>\n",
              "    </tr>\n",
              "    <tr>\n",
              "      <th rowspan=\"2\" valign=\"top\">CA</th>\n",
              "      <th>Large fringe metro</th>\n",
              "      <td>Yolo County</td>\n",
              "      <td>161.0</td>\n",
              "      <td>1603</td>\n",
              "    </tr>\n",
              "    <tr>\n",
              "      <th>Small metro</th>\n",
              "      <td>Yuba County</td>\n",
              "      <td>117.0</td>\n",
              "      <td>1066</td>\n",
              "    </tr>\n",
              "  </tbody>\n",
              "</table>\n",
              "</div>"
            ],
            "text/plain": [
              "                                            County name  ...  Deaths from All Causes\n",
              "State Urban Rural Code                                   ...                        \n",
              "AK    Medium metro            Matanuska-Susitna Borough  ...                    2748\n",
              "      Micropolitan            Ketchikan Gateway Borough  ...                     204\n",
              "      Noncore                  Wade Hampton Census Area  ...                     452\n",
              "      Small metro          Fairbanks North Star Borough  ...                     653\n",
              "AL    Large central metro              Jefferson County  ...                   13998\n",
              "      Large fringe metro                  Walker County  ...                    1859\n",
              "      Medium metro                       Russell County  ...                    7280\n",
              "      Micropolitan                     Talladega County  ...                    1656\n",
              "      Noncore                            Winston County  ...                     961\n",
              "      Small metro                     Tuscaloosa County  ...                    3269\n",
              "AR    Large fringe metro              Crittenden County  ...                     474\n",
              "      Medium metro                      Crawford County  ...                    2697\n",
              "      Micropolitan                      Columbia County  ...                    1203\n",
              "      Noncore                               Drew County  ...                     375\n",
              "      Small metro                      Craighead County  ...                    3007\n",
              "CA    Large fringe metro                    Yolo County  ...                    1603\n",
              "      Small metro                           Yuba County  ...                    1066\n",
              "\n",
              "[17 rows x 3 columns]"
            ]
          },
          "metadata": {
            "tags": []
          },
          "execution_count": 56
        }
      ]
    },
    {
      "cell_type": "markdown",
      "metadata": {
        "id": "vn1ya9mM26Yy"
      },
      "source": [
        "*1- Percentage of deaths in USA from COVID-19?*"
      ]
    },
    {
      "cell_type": "code",
      "metadata": {
        "colab": {
          "base_uri": "https://localhost:8080/"
        },
        "id": "zx1xT6SVVO6y",
        "outputId": "de69a20b-a309-4683-af32-71660b4d30bb"
      },
      "source": [
        "#Percentage of deaths in USA from COVID-19\n",
        "\n",
        "Percentage_deaths_from_covid=df[\"Deaths involving COVID-19\"].sum()/df[\"Deaths from All Causes\"].sum() *100\n",
        "Percentage_deaths_from_covid"
      ],
      "execution_count": null,
      "outputs": [
        {
          "output_type": "execute_result",
          "data": {
            "text/plain": [
              "12.27672444467036"
            ]
          },
          "metadata": {
            "tags": []
          },
          "execution_count": 57
        }
      ]
    },
    {
      "cell_type": "code",
      "metadata": {
        "colab": {
          "base_uri": "https://localhost:8080/"
        },
        "id": "2G7vbL5dWWTv",
        "outputId": "65f11810-b7b2-45e1-eb09-be85da88cfe4"
      },
      "source": [
        "df[\"Urban Rural Code\"].unique()"
      ],
      "execution_count": null,
      "outputs": [
        {
          "output_type": "execute_result",
          "data": {
            "text/plain": [
              "array(['Medium metro', 'Noncore', 'Small metro', 'Micropolitan',\n",
              "       'Large fringe metro', 'Large central metro'], dtype=object)"
            ]
          },
          "metadata": {
            "tags": []
          },
          "execution_count": 58
        }
      ]
    },
    {
      "cell_type": "markdown",
      "metadata": {
        "id": "TUjAypyO3CfE"
      },
      "source": [
        "*2- Percentage of deaths due to COVID-19 according to Urban Rural code?*"
      ]
    },
    {
      "cell_type": "code",
      "metadata": {
        "colab": {
          "base_uri": "https://localhost:8080/"
        },
        "id": "33pxAC3nWsrf",
        "outputId": "5f181285-1160-4177-b155-1f3d3caeb757"
      },
      "source": [
        "#How the Urban Rural Code effect the number of deaths\n",
        "#Medium metro percentage analysis\n",
        "\n",
        "medium_metro=df[df[\"Urban Rural Code\"]==\"Medium metro\"].sum()\n",
        "medium_metro_perc=medium_metro[\"Deaths involving COVID-19\"]/medium_metro[\"Deaths from All Causes\"] *100\n",
        "medium_metro_perc "
      ],
      "execution_count": null,
      "outputs": [
        {
          "output_type": "execute_result",
          "data": {
            "text/plain": [
              "12.122974053346901"
            ]
          },
          "metadata": {
            "tags": []
          },
          "execution_count": 59
        }
      ]
    },
    {
      "cell_type": "code",
      "metadata": {
        "colab": {
          "base_uri": "https://localhost:8080/"
        },
        "id": "XN7ePvcEXZBq",
        "outputId": "1bc73072-fc2e-46ee-cbfb-04db0d11eadc"
      },
      "source": [
        "#Noncore Percentage analysis\n",
        "\n",
        "noncore=df[df[\"Urban Rural Code\"]==\"Noncore\"].sum()\n",
        "noncore_perc=noncore[\"Deaths involving COVID-19\"]/noncore[\"Deaths from All Causes\"] *100\n",
        "noncore_perc"
      ],
      "execution_count": null,
      "outputs": [
        {
          "output_type": "execute_result",
          "data": {
            "text/plain": [
              "8.254887762490949"
            ]
          },
          "metadata": {
            "tags": []
          },
          "execution_count": 60
        }
      ]
    },
    {
      "cell_type": "code",
      "metadata": {
        "colab": {
          "base_uri": "https://localhost:8080/"
        },
        "id": "uEQPQmG6Xs6G",
        "outputId": "576351b3-8f87-406f-bfe0-0a46de093637"
      },
      "source": [
        "#Small Metro Percentage analysis\n",
        "\n",
        "small_metro=df[df[\"Urban Rural Code\"]==\"Small metro\"].sum()\n",
        "small_metro_perc=small_metro[\"Deaths involving COVID-19\"]/small_metro[\"Deaths from All Causes\"] *100\n",
        "small_metro_perc"
      ],
      "execution_count": null,
      "outputs": [
        {
          "output_type": "execute_result",
          "data": {
            "text/plain": [
              "14.358101574285383"
            ]
          },
          "metadata": {
            "tags": []
          },
          "execution_count": 61
        }
      ]
    },
    {
      "cell_type": "code",
      "metadata": {
        "colab": {
          "base_uri": "https://localhost:8080/"
        },
        "id": "SpJVqYRhYQV7",
        "outputId": "16d8f8e9-0d6d-475d-b65d-52b8c6e43791"
      },
      "source": [
        "#Micropolitan percentage analysis\n",
        "\n",
        "micropolitan=df[df[\"Urban Rural Code\"]==\"Micropolitan\"].sum()\n",
        "micropolitan_perc=micropolitan[\"Deaths involving COVID-19\"]/micropolitan[\"Deaths from All Causes\"] *100\n",
        "micropolitan_perc"
      ],
      "execution_count": null,
      "outputs": [
        {
          "output_type": "execute_result",
          "data": {
            "text/plain": [
              "11.241023752531762"
            ]
          },
          "metadata": {
            "tags": []
          },
          "execution_count": 62
        }
      ]
    },
    {
      "cell_type": "code",
      "metadata": {
        "colab": {
          "base_uri": "https://localhost:8080/"
        },
        "id": "JHS-6jQUYfpb",
        "outputId": "6d22d896-3915-4a78-d2f7-d414b4cf32da"
      },
      "source": [
        "#Large fringe metro percentage analysis\n",
        "\n",
        "Large_fringe_metro=df[df[\"Urban Rural Code\"]==\"Large fringe metro\"].sum()\n",
        "Large_fringe_metro_perc=Large_fringe_metro[\"Deaths involving COVID-19\"]/Large_fringe_metro[\"Deaths from All Causes\"] *100\n",
        "Large_fringe_metro_perc"
      ],
      "execution_count": null,
      "outputs": [
        {
          "output_type": "execute_result",
          "data": {
            "text/plain": [
              "9.863724853990915"
            ]
          },
          "metadata": {
            "tags": []
          },
          "execution_count": 63
        }
      ]
    },
    {
      "cell_type": "code",
      "metadata": {
        "colab": {
          "base_uri": "https://localhost:8080/"
        },
        "id": "47jQHTMXYsGc",
        "outputId": "21b51832-b5f9-470d-aa53-542fdd15980b"
      },
      "source": [
        "#Large Central metro percentage analysis\n",
        "\n",
        "Large_central_metro=df[df[\"Urban Rural Code\"]==\"Large central metro\"].sum()\n",
        "Large_central_metro_perc=Large_central_metro[\"Deaths involving COVID-19\"]/Large_central_metro[\"Deaths from All Causes\"] *100\n",
        "Large_central_metro_perc"
      ],
      "execution_count": null,
      "outputs": [
        {
          "output_type": "execute_result",
          "data": {
            "text/plain": [
              "14.437776825260752"
            ]
          },
          "metadata": {
            "tags": []
          },
          "execution_count": 64
        }
      ]
    },
    {
      "cell_type": "code",
      "metadata": {
        "colab": {
          "base_uri": "https://localhost:8080/",
          "height": 195
        },
        "id": "8uNvzzlCY6pZ",
        "outputId": "0e288d9b-6647-42b9-b521-5300dc13b45e"
      },
      "source": [
        "df.head()"
      ],
      "execution_count": null,
      "outputs": [
        {
          "output_type": "execute_result",
          "data": {
            "text/html": [
              "<div>\n",
              "<style scoped>\n",
              "    .dataframe tbody tr th:only-of-type {\n",
              "        vertical-align: middle;\n",
              "    }\n",
              "\n",
              "    .dataframe tbody tr th {\n",
              "        vertical-align: top;\n",
              "    }\n",
              "\n",
              "    .dataframe thead th {\n",
              "        text-align: right;\n",
              "    }\n",
              "</style>\n",
              "<table border=\"1\" class=\"dataframe\">\n",
              "  <thead>\n",
              "    <tr style=\"text-align: right;\">\n",
              "      <th></th>\n",
              "      <th>State</th>\n",
              "      <th>County name</th>\n",
              "      <th>Urban Rural Code</th>\n",
              "      <th>Deaths involving COVID-19</th>\n",
              "      <th>Deaths from All Causes</th>\n",
              "    </tr>\n",
              "  </thead>\n",
              "  <tbody>\n",
              "    <tr>\n",
              "      <th>0</th>\n",
              "      <td>AK</td>\n",
              "      <td>Anchorage Municipality</td>\n",
              "      <td>Medium metro</td>\n",
              "      <td>190.0</td>\n",
              "      <td>2748</td>\n",
              "    </tr>\n",
              "    <tr>\n",
              "      <th>1</th>\n",
              "      <td>AK</td>\n",
              "      <td>Bethel Census Area</td>\n",
              "      <td>Noncore</td>\n",
              "      <td>14.0</td>\n",
              "      <td>133</td>\n",
              "    </tr>\n",
              "    <tr>\n",
              "      <th>2</th>\n",
              "      <td>AK</td>\n",
              "      <td>Dillingham Census Area</td>\n",
              "      <td>Noncore</td>\n",
              "      <td>0.0</td>\n",
              "      <td>33</td>\n",
              "    </tr>\n",
              "    <tr>\n",
              "      <th>3</th>\n",
              "      <td>AK</td>\n",
              "      <td>Fairbanks North Star Borough</td>\n",
              "      <td>Small metro</td>\n",
              "      <td>41.0</td>\n",
              "      <td>653</td>\n",
              "    </tr>\n",
              "    <tr>\n",
              "      <th>4</th>\n",
              "      <td>AK</td>\n",
              "      <td>Hoonah-Angoon Census Area</td>\n",
              "      <td>Noncore</td>\n",
              "      <td>0.0</td>\n",
              "      <td>14</td>\n",
              "    </tr>\n",
              "  </tbody>\n",
              "</table>\n",
              "</div>"
            ],
            "text/plain": [
              "  State  ... Deaths from All Causes\n",
              "0    AK  ...                   2748\n",
              "1    AK  ...                    133\n",
              "2    AK  ...                     33\n",
              "3    AK  ...                    653\n",
              "4    AK  ...                     14\n",
              "\n",
              "[5 rows x 5 columns]"
            ]
          },
          "metadata": {
            "tags": []
          },
          "execution_count": 65
        }
      ]
    },
    {
      "cell_type": "markdown",
      "metadata": {
        "id": "uedUOe3P3P-Z"
      },
      "source": [
        "*3- Which state has the most deaths from COVID-19?*\n",
        "\n",
        "*4- Which county has the most deaths from COVID-19?*"
      ]
    },
    {
      "cell_type": "code",
      "metadata": {
        "colab": {
          "base_uri": "https://localhost:8080/",
          "height": 431
        },
        "id": "NyzPZ__aZNop",
        "outputId": "a27aa93b-8e89-4a21-cab9-709d6cec8561"
      },
      "source": [
        "#The state which has the most deaths due to covid\n",
        "\n",
        "df.groupby([\"State\",\"Deaths involving COVID-19\"]).max()"
      ],
      "execution_count": null,
      "outputs": [
        {
          "output_type": "execute_result",
          "data": {
            "text/html": [
              "<div>\n",
              "<style scoped>\n",
              "    .dataframe tbody tr th:only-of-type {\n",
              "        vertical-align: middle;\n",
              "    }\n",
              "\n",
              "    .dataframe tbody tr th {\n",
              "        vertical-align: top;\n",
              "    }\n",
              "\n",
              "    .dataframe thead th {\n",
              "        text-align: right;\n",
              "    }\n",
              "</style>\n",
              "<table border=\"1\" class=\"dataframe\">\n",
              "  <thead>\n",
              "    <tr style=\"text-align: right;\">\n",
              "      <th></th>\n",
              "      <th></th>\n",
              "      <th>County name</th>\n",
              "      <th>Urban Rural Code</th>\n",
              "      <th>Deaths from All Causes</th>\n",
              "    </tr>\n",
              "    <tr>\n",
              "      <th>State</th>\n",
              "      <th>Deaths involving COVID-19</th>\n",
              "      <th></th>\n",
              "      <th></th>\n",
              "      <th></th>\n",
              "    </tr>\n",
              "  </thead>\n",
              "  <tbody>\n",
              "    <tr>\n",
              "      <th rowspan=\"5\" valign=\"top\">AK</th>\n",
              "      <th>0.0</th>\n",
              "      <td>Wade Hampton Census Area</td>\n",
              "      <td>Noncore</td>\n",
              "      <td>204</td>\n",
              "    </tr>\n",
              "    <tr>\n",
              "      <th>14.0</th>\n",
              "      <td>Bethel Census Area</td>\n",
              "      <td>Noncore</td>\n",
              "      <td>133</td>\n",
              "    </tr>\n",
              "    <tr>\n",
              "      <th>15.0</th>\n",
              "      <td>Kenai Peninsula Borough</td>\n",
              "      <td>Noncore</td>\n",
              "      <td>452</td>\n",
              "    </tr>\n",
              "    <tr>\n",
              "      <th>32.0</th>\n",
              "      <td>Matanuska-Susitna Borough</td>\n",
              "      <td>Medium metro</td>\n",
              "      <td>772</td>\n",
              "    </tr>\n",
              "    <tr>\n",
              "      <th>41.0</th>\n",
              "      <td>Fairbanks North Star Borough</td>\n",
              "      <td>Small metro</td>\n",
              "      <td>653</td>\n",
              "    </tr>\n",
              "    <tr>\n",
              "      <th>...</th>\n",
              "      <th>...</th>\n",
              "      <td>...</td>\n",
              "      <td>...</td>\n",
              "      <td>...</td>\n",
              "    </tr>\n",
              "    <tr>\n",
              "      <th rowspan=\"3\" valign=\"top\">AR</th>\n",
              "      <th>142.0</th>\n",
              "      <td>Baxter County</td>\n",
              "      <td>Micropolitan</td>\n",
              "      <td>1203</td>\n",
              "    </tr>\n",
              "    <tr>\n",
              "      <th>437.0</th>\n",
              "      <td>Benton County</td>\n",
              "      <td>Medium metro</td>\n",
              "      <td>2697</td>\n",
              "    </tr>\n",
              "    <tr>\n",
              "      <th>531.0</th>\n",
              "      <td>Craighead County</td>\n",
              "      <td>Small metro</td>\n",
              "      <td>3007</td>\n",
              "    </tr>\n",
              "    <tr>\n",
              "      <th rowspan=\"2\" valign=\"top\">CA</th>\n",
              "      <th>117.0</th>\n",
              "      <td>Yuba County</td>\n",
              "      <td>Small metro</td>\n",
              "      <td>1066</td>\n",
              "    </tr>\n",
              "    <tr>\n",
              "      <th>161.0</th>\n",
              "      <td>Yolo County</td>\n",
              "      <td>Large fringe metro</td>\n",
              "      <td>1603</td>\n",
              "    </tr>\n",
              "  </tbody>\n",
              "</table>\n",
              "<p>74 rows × 3 columns</p>\n",
              "</div>"
            ],
            "text/plain": [
              "                                                  County name  ... Deaths from All Causes\n",
              "State Deaths involving COVID-19                                ...                       \n",
              "AK    0.0                            Wade Hampton Census Area  ...                    204\n",
              "      14.0                                 Bethel Census Area  ...                    133\n",
              "      15.0                            Kenai Peninsula Borough  ...                    452\n",
              "      32.0                          Matanuska-Susitna Borough  ...                    772\n",
              "      41.0                       Fairbanks North Star Borough  ...                    653\n",
              "...                                                       ...  ...                    ...\n",
              "AR    142.0                                     Baxter County  ...                   1203\n",
              "      437.0                                     Benton County  ...                   2697\n",
              "      531.0                                  Craighead County  ...                   3007\n",
              "CA    117.0                                       Yuba County  ...                   1066\n",
              "      161.0                                       Yolo County  ...                   1603\n",
              "\n",
              "[74 rows x 3 columns]"
            ]
          },
          "metadata": {
            "tags": []
          },
          "execution_count": 66
        }
      ]
    },
    {
      "cell_type": "code",
      "metadata": {
        "id": "Lo7gKIKCZYRa"
      },
      "source": [
        "# The state with the most deaths is AR and the county is Craighead County\n",
        "# which has the Urban Rural code of small metro\n",
        "\n",
        "#AK has the lowest deaths as a State \n",
        "#Wade Hapton Census Area has the least deaths which is 0 with a code of noncore\n"
      ],
      "execution_count": null,
      "outputs": []
    },
    {
      "cell_type": "markdown",
      "metadata": {
        "id": "x1o3jrhD4i30"
      },
      "source": [
        "*5-Which county has the most and which has the least deaths from all causes?*\n",
        "\n",
        "*6- Which State has the most deaths and which has the least deaths from all causes?*"
      ]
    },
    {
      "cell_type": "code",
      "metadata": {
        "colab": {
          "base_uri": "https://localhost:8080/",
          "height": 431
        },
        "id": "adqQ9IAcm2FG",
        "outputId": "ac56cc67-3ce1-4e3e-c081-4486e658397f"
      },
      "source": [
        "#The state with the most deaths from all causes\n",
        "\n",
        "df.groupby([\"State\",\"Deaths from All Causes\"]).max()"
      ],
      "execution_count": null,
      "outputs": [
        {
          "output_type": "execute_result",
          "data": {
            "text/html": [
              "<div>\n",
              "<style scoped>\n",
              "    .dataframe tbody tr th:only-of-type {\n",
              "        vertical-align: middle;\n",
              "    }\n",
              "\n",
              "    .dataframe tbody tr th {\n",
              "        vertical-align: top;\n",
              "    }\n",
              "\n",
              "    .dataframe thead th {\n",
              "        text-align: right;\n",
              "    }\n",
              "</style>\n",
              "<table border=\"1\" class=\"dataframe\">\n",
              "  <thead>\n",
              "    <tr style=\"text-align: right;\">\n",
              "      <th></th>\n",
              "      <th></th>\n",
              "      <th>County name</th>\n",
              "      <th>Urban Rural Code</th>\n",
              "      <th>Deaths involving COVID-19</th>\n",
              "    </tr>\n",
              "    <tr>\n",
              "      <th>State</th>\n",
              "      <th>Deaths from All Causes</th>\n",
              "      <th></th>\n",
              "      <th></th>\n",
              "      <th></th>\n",
              "    </tr>\n",
              "  </thead>\n",
              "  <tbody>\n",
              "    <tr>\n",
              "      <th rowspan=\"5\" valign=\"top\">AK</th>\n",
              "      <th>14</th>\n",
              "      <td>Hoonah-Angoon Census Area</td>\n",
              "      <td>Noncore</td>\n",
              "      <td>0.0</td>\n",
              "    </tr>\n",
              "    <tr>\n",
              "      <th>33</th>\n",
              "      <td>Dillingham Census Area</td>\n",
              "      <td>Noncore</td>\n",
              "      <td>0.0</td>\n",
              "    </tr>\n",
              "    <tr>\n",
              "      <th>42</th>\n",
              "      <td>Valdez-Cordova Census Area</td>\n",
              "      <td>Noncore</td>\n",
              "      <td>0.0</td>\n",
              "    </tr>\n",
              "    <tr>\n",
              "      <th>45</th>\n",
              "      <td>Wade Hampton Census Area</td>\n",
              "      <td>Noncore</td>\n",
              "      <td>0.0</td>\n",
              "    </tr>\n",
              "    <tr>\n",
              "      <th>46</th>\n",
              "      <td>North Slope Borough</td>\n",
              "      <td>Noncore</td>\n",
              "      <td>0.0</td>\n",
              "    </tr>\n",
              "    <tr>\n",
              "      <th>...</th>\n",
              "      <th>...</th>\n",
              "      <td>...</td>\n",
              "      <td>...</td>\n",
              "      <td>...</td>\n",
              "    </tr>\n",
              "    <tr>\n",
              "      <th rowspan=\"3\" valign=\"top\">AR</th>\n",
              "      <th>1203</th>\n",
              "      <td>Baxter County</td>\n",
              "      <td>Micropolitan</td>\n",
              "      <td>142.0</td>\n",
              "    </tr>\n",
              "    <tr>\n",
              "      <th>2697</th>\n",
              "      <td>Benton County</td>\n",
              "      <td>Medium metro</td>\n",
              "      <td>437.0</td>\n",
              "    </tr>\n",
              "    <tr>\n",
              "      <th>3007</th>\n",
              "      <td>Craighead County</td>\n",
              "      <td>Small metro</td>\n",
              "      <td>531.0</td>\n",
              "    </tr>\n",
              "    <tr>\n",
              "      <th rowspan=\"2\" valign=\"top\">CA</th>\n",
              "      <th>1066</th>\n",
              "      <td>Yuba County</td>\n",
              "      <td>Small metro</td>\n",
              "      <td>117.0</td>\n",
              "    </tr>\n",
              "    <tr>\n",
              "      <th>1603</th>\n",
              "      <td>Yolo County</td>\n",
              "      <td>Large fringe metro</td>\n",
              "      <td>161.0</td>\n",
              "    </tr>\n",
              "  </tbody>\n",
              "</table>\n",
              "<p>103 rows × 3 columns</p>\n",
              "</div>"
            ],
            "text/plain": [
              "                                             County name  ... Deaths involving COVID-19\n",
              "State Deaths from All Causes                              ...                          \n",
              "AK    14                       Hoonah-Angoon Census Area  ...                       0.0\n",
              "      33                          Dillingham Census Area  ...                       0.0\n",
              "      42                      Valdez-Cordova Census Area  ...                       0.0\n",
              "      45                        Wade Hampton Census Area  ...                       0.0\n",
              "      46                             North Slope Borough  ...                       0.0\n",
              "...                                                  ...  ...                       ...\n",
              "AR    1203                                 Baxter County  ...                     142.0\n",
              "      2697                                 Benton County  ...                     437.0\n",
              "      3007                              Craighead County  ...                     531.0\n",
              "CA    1066                                   Yuba County  ...                     117.0\n",
              "      1603                                   Yolo County  ...                     161.0\n",
              "\n",
              "[103 rows x 3 columns]"
            ]
          },
          "metadata": {
            "tags": []
          },
          "execution_count": 68
        }
      ]
    },
    {
      "cell_type": "code",
      "metadata": {
        "id": "SgVJC49znHg2"
      },
      "source": [
        "# The State with the most deaths is AR and the county is Craighead county\n",
        "# with Urban Rural Code of Small metro\n",
        "\n",
        "# The state with the least deaths is AK and the county is Hoonah Angoon Census\n",
        "# With Urban Rural code of Noncore"
      ],
      "execution_count": null,
      "outputs": []
    },
    {
      "cell_type": "code",
      "metadata": {
        "colab": {
          "base_uri": "https://localhost:8080/"
        },
        "id": "WZTOKto5aNs3",
        "outputId": "f541fba2-8ac7-48de-f487-206755476201"
      },
      "source": [
        "df[\"State\"].unique()"
      ],
      "execution_count": null,
      "outputs": [
        {
          "output_type": "execute_result",
          "data": {
            "text/plain": [
              "array(['AK', 'AL', 'AR', 'CA'], dtype=object)"
            ]
          },
          "metadata": {
            "tags": []
          },
          "execution_count": 70
        }
      ]
    },
    {
      "cell_type": "markdown",
      "metadata": {
        "id": "d7H4POBq4xCd"
      },
      "source": [
        "*7- Percentage of deaths in each state due to COVID-19?*"
      ]
    },
    {
      "cell_type": "code",
      "metadata": {
        "colab": {
          "base_uri": "https://localhost:8080/"
        },
        "id": "uk6Z58z-aQx7",
        "outputId": "e19291d3-0cc9-4c6a-f7f3-b2d6dd805351"
      },
      "source": [
        "#Checking the percentage of deaths in each state due to COVID-19\n",
        "# AK Percentage\n",
        "\n",
        "AK=df[df[\"State\"]==\"AK\"].sum()\n",
        "AK_perc=AK[\"Deaths involving COVID-19\"]/AK[\"Deaths from All Causes\"] *100\n",
        "AK_perc"
      ],
      "execution_count": null,
      "outputs": [
        {
          "output_type": "execute_result",
          "data": {
            "text/plain": [
              "5.481509292284588"
            ]
          },
          "metadata": {
            "tags": []
          },
          "execution_count": 71
        }
      ]
    },
    {
      "cell_type": "code",
      "metadata": {
        "colab": {
          "base_uri": "https://localhost:8080/"
        },
        "id": "GwPBEgH2akWB",
        "outputId": "21a05971-8b53-4453-db98-a013dd48c5d2"
      },
      "source": [
        "# AL Percentage\n",
        "\n",
        "AL=df[df[\"State\"]==\"AL\"].sum()\n",
        "AL_perc=AL[\"Deaths involving COVID-19\"]/AL[\"Deaths from All Causes\"] *100\n",
        "AL_perc"
      ],
      "execution_count": null,
      "outputs": [
        {
          "output_type": "execute_result",
          "data": {
            "text/plain": [
              "12.737853669742332"
            ]
          },
          "metadata": {
            "tags": []
          },
          "execution_count": 72
        }
      ]
    },
    {
      "cell_type": "code",
      "metadata": {
        "colab": {
          "base_uri": "https://localhost:8080/"
        },
        "id": "T-E1kkz7atmZ",
        "outputId": "74840a6c-523e-4d3c-e1f8-8eeea3f13c4f"
      },
      "source": [
        "#AR Percentage\n",
        "\n",
        "AR=df[df[\"State\"]==\"AR\"].sum()\n",
        "AR_perc=AR[\"Deaths involving COVID-19\"]/AR[\"Deaths from All Causes\"] *100\n",
        "AR_perc"
      ],
      "execution_count": null,
      "outputs": [
        {
          "output_type": "execute_result",
          "data": {
            "text/plain": [
              "12.695637695637696"
            ]
          },
          "metadata": {
            "tags": []
          },
          "execution_count": 73
        }
      ]
    },
    {
      "cell_type": "code",
      "metadata": {
        "colab": {
          "base_uri": "https://localhost:8080/"
        },
        "id": "EPqIQ7rfa5g0",
        "outputId": "c4e0711e-2efd-4b8d-efd8-86a85ea71129"
      },
      "source": [
        "#CA Percentage\n",
        "\n",
        "CA=df[df[\"State\"]==\"CA\"].sum()\n",
        "CA_perc=CA[\"Deaths involving COVID-19\"]/CA[\"Deaths from All Causes\"] *100\n",
        "CA_perc"
      ],
      "execution_count": null,
      "outputs": [
        {
          "output_type": "execute_result",
          "data": {
            "text/plain": [
              "10.415886099662796"
            ]
          },
          "metadata": {
            "tags": []
          },
          "execution_count": 74
        }
      ]
    },
    {
      "cell_type": "code",
      "metadata": {
        "colab": {
          "base_uri": "https://localhost:8080/",
          "height": 580
        },
        "id": "5-GIbeVna_O5",
        "outputId": "622c225a-b275-4d2b-83d6-d3219006009e"
      },
      "source": [
        "#Removing the country name for easier and clearer plot explaination\n",
        "#Making the analysis according to the State and Urban Rural Code\n",
        "\n",
        "plot_df=df.drop(\"County name\",axis=1)\n",
        "plot_df.reset_index()\n",
        "plot_df=plot_df.groupby([\"State\",\"Urban Rural Code\"]).sum()\n",
        "plot_df"
      ],
      "execution_count": null,
      "outputs": [
        {
          "output_type": "execute_result",
          "data": {
            "text/html": [
              "<div>\n",
              "<style scoped>\n",
              "    .dataframe tbody tr th:only-of-type {\n",
              "        vertical-align: middle;\n",
              "    }\n",
              "\n",
              "    .dataframe tbody tr th {\n",
              "        vertical-align: top;\n",
              "    }\n",
              "\n",
              "    .dataframe thead th {\n",
              "        text-align: right;\n",
              "    }\n",
              "</style>\n",
              "<table border=\"1\" class=\"dataframe\">\n",
              "  <thead>\n",
              "    <tr style=\"text-align: right;\">\n",
              "      <th></th>\n",
              "      <th></th>\n",
              "      <th>Deaths involving COVID-19</th>\n",
              "      <th>Deaths from All Causes</th>\n",
              "    </tr>\n",
              "    <tr>\n",
              "      <th>State</th>\n",
              "      <th>Urban Rural Code</th>\n",
              "      <th></th>\n",
              "      <th></th>\n",
              "    </tr>\n",
              "  </thead>\n",
              "  <tbody>\n",
              "    <tr>\n",
              "      <th rowspan=\"4\" valign=\"top\">AK</th>\n",
              "      <th>Medium metro</th>\n",
              "      <td>222.0</td>\n",
              "      <td>3520</td>\n",
              "    </tr>\n",
              "    <tr>\n",
              "      <th>Micropolitan</th>\n",
              "      <td>0.0</td>\n",
              "      <td>316</td>\n",
              "    </tr>\n",
              "    <tr>\n",
              "      <th>Noncore</th>\n",
              "      <td>29.0</td>\n",
              "      <td>838</td>\n",
              "    </tr>\n",
              "    <tr>\n",
              "      <th>Small metro</th>\n",
              "      <td>41.0</td>\n",
              "      <td>653</td>\n",
              "    </tr>\n",
              "    <tr>\n",
              "      <th rowspan=\"6\" valign=\"top\">AL</th>\n",
              "      <th>Large central metro</th>\n",
              "      <td>2021.0</td>\n",
              "      <td>13998</td>\n",
              "    </tr>\n",
              "    <tr>\n",
              "      <th>Large fringe metro</th>\n",
              "      <td>562.0</td>\n",
              "      <td>5628</td>\n",
              "    </tr>\n",
              "    <tr>\n",
              "      <th>Medium metro</th>\n",
              "      <td>2642.0</td>\n",
              "      <td>20705</td>\n",
              "    </tr>\n",
              "    <tr>\n",
              "      <th>Micropolitan</th>\n",
              "      <td>930.0</td>\n",
              "      <td>8113</td>\n",
              "    </tr>\n",
              "    <tr>\n",
              "      <th>Noncore</th>\n",
              "      <td>803.0</td>\n",
              "      <td>8869</td>\n",
              "    </tr>\n",
              "    <tr>\n",
              "      <th>Small metro</th>\n",
              "      <td>3023.0</td>\n",
              "      <td>21044</td>\n",
              "    </tr>\n",
              "    <tr>\n",
              "      <th rowspan=\"5\" valign=\"top\">AR</th>\n",
              "      <th>Large fringe metro</th>\n",
              "      <td>37.0</td>\n",
              "      <td>474</td>\n",
              "    </tr>\n",
              "    <tr>\n",
              "      <th>Medium metro</th>\n",
              "      <td>472.0</td>\n",
              "      <td>3293</td>\n",
              "    </tr>\n",
              "    <tr>\n",
              "      <th>Micropolitan</th>\n",
              "      <td>291.0</td>\n",
              "      <td>2433</td>\n",
              "    </tr>\n",
              "    <tr>\n",
              "      <th>Noncore</th>\n",
              "      <td>194.0</td>\n",
              "      <td>2722</td>\n",
              "    </tr>\n",
              "    <tr>\n",
              "      <th>Small metro</th>\n",
              "      <td>531.0</td>\n",
              "      <td>3090</td>\n",
              "    </tr>\n",
              "    <tr>\n",
              "      <th rowspan=\"2\" valign=\"top\">CA</th>\n",
              "      <th>Large fringe metro</th>\n",
              "      <td>161.0</td>\n",
              "      <td>1603</td>\n",
              "    </tr>\n",
              "    <tr>\n",
              "      <th>Small metro</th>\n",
              "      <td>117.0</td>\n",
              "      <td>1066</td>\n",
              "    </tr>\n",
              "  </tbody>\n",
              "</table>\n",
              "</div>"
            ],
            "text/plain": [
              "                           Deaths involving COVID-19  Deaths from All Causes\n",
              "State Urban Rural Code                                                      \n",
              "AK    Medium metro                             222.0                    3520\n",
              "      Micropolitan                               0.0                     316\n",
              "      Noncore                                   29.0                     838\n",
              "      Small metro                               41.0                     653\n",
              "AL    Large central metro                     2021.0                   13998\n",
              "      Large fringe metro                       562.0                    5628\n",
              "      Medium metro                            2642.0                   20705\n",
              "      Micropolitan                             930.0                    8113\n",
              "      Noncore                                  803.0                    8869\n",
              "      Small metro                             3023.0                   21044\n",
              "AR    Large fringe metro                        37.0                     474\n",
              "      Medium metro                             472.0                    3293\n",
              "      Micropolitan                             291.0                    2433\n",
              "      Noncore                                  194.0                    2722\n",
              "      Small metro                              531.0                    3090\n",
              "CA    Large fringe metro                       161.0                    1603\n",
              "      Small metro                              117.0                    1066"
            ]
          },
          "metadata": {
            "tags": []
          },
          "execution_count": 75
        }
      ]
    },
    {
      "cell_type": "code",
      "metadata": {
        "colab": {
          "base_uri": "https://localhost:8080/",
          "height": 645
        },
        "id": "yVFQkD0FbWME",
        "outputId": "2181dd7e-3a20-4f86-8787-167573b9a78c"
      },
      "source": [
        "#Bar Plot for the difference between the total deaths in USA\n",
        "#And deaths due to COVID-19\n",
        "\n",
        "bar=plot_df[[\"Deaths involving COVID-19\",\"Deaths from All Causes\"]].plot.bar(title=\"Deaths in USA\",color=[\"Blue\",\"Green\"],figsize=(12, 8))\n",
        "bar.set_xlabel(\"State(Urban Rural Code)\")\n",
        "bar.set_ylabel(\"Number of deaths\")"
      ],
      "execution_count": null,
      "outputs": [
        {
          "output_type": "execute_result",
          "data": {
            "text/plain": [
              "Text(0, 0.5, 'Number of deaths')"
            ]
          },
          "metadata": {
            "tags": []
          },
          "execution_count": 76
        },
        {
          "output_type": "display_data",
          "data": {
            "image/png": "[encoded data removed]",
            "text/plain": [
              "<Figure size 864x576 with 1 Axes>"
            ]
          },
          "metadata": {
            "tags": [],
            "needs_background": "light"
          }
        }
      ]
    },
    {
      "cell_type": "code",
      "metadata": {
        "colab": {
          "base_uri": "https://localhost:8080/",
          "height": 530
        },
        "id": "HREhpVlDhp98",
        "outputId": "da03b32a-1830-4c33-bf1e-935a3f2edc82"
      },
      "source": [
        "#Line Plot for the difference between the total deaths in USA\n",
        "#And deaths due to COVID-19\n",
        "\n",
        "line=plot_df[[\"Deaths involving COVID-19\",\"Deaths from All Causes\"]\\\n",
        "          ].plot.line(title=\"Deaths in USA\", \\\n",
        "                      color=[\"Yellow\",\"Green\"],figsize=(12, 8))\n",
        "line.set_xlabel(\"State(Urban Rural Code)\")\n",
        "line.set_ylabel(\"Number of deaths\") "
      ],
      "execution_count": null,
      "outputs": [
        {
          "output_type": "execute_result",
          "data": {
            "text/plain": [
              "Text(0, 0.5, 'Number of deaths')"
            ]
          },
          "metadata": {
            "tags": []
          },
          "execution_count": 77
        },
        {
          "output_type": "display_data",
          "data": {
            "image/png": "[encoded data removed]",
            "text/plain": [
              "<Figure size 864x576 with 1 Axes>"
            ]
          },
          "metadata": {
            "tags": [],
            "needs_background": "light"
          }
        }
      ]
    },
    {
      "cell_type": "code",
      "metadata": {
        "colab": {
          "base_uri": "https://localhost:8080/",
          "height": 536
        },
        "id": "8fjWPv3clud4",
        "outputId": "f55463b1-31b5-4661-8457-26a98e14e331"
      },
      "source": [
        "#Total Deaths in USA in different states according the Urban Rural Code\n",
        "\n",
        "pie=plot_df[\"Deaths involving COVID-19\"]\\\n",
        "          .plot.pie(title=\"Deaths in USA\",figsize=(14, 9)\\\n",
        "                    ,fontsize=10,autopct=\"%.2f\")"
      ],
      "execution_count": null,
      "outputs": [
        {
          "output_type": "display_data",
          "data": {
            "image/png": "[encoded data removed]",
            "text/plain": [
              "<Figure size 1008x648 with 1 Axes>"
            ]
          },
          "metadata": {
            "tags": []
          }
        }
      ]
    },
    {
      "cell_type": "code",
      "metadata": {
        "id": "lI1cfs8srL-V"
      },
      "source": [
        ""
      ],
      "execution_count": null,
      "outputs": []
    }
  ]
}